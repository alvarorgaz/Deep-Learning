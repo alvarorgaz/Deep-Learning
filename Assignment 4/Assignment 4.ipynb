{
 "cells": [
  {
   "cell_type": "markdown",
   "metadata": {},
   "source": [
    "Load necessary libraries."
   ]
  },
  {
   "cell_type": "code",
   "execution_count": 1,
   "metadata": {},
   "outputs": [],
   "source": [
    "import numpy as np\n",
    "import copy\n",
    "import matplotlib.pyplot as plt\n",
    "import json\n",
    "import html\n",
    "import sys\n",
    "figure = 0"
   ]
  },
  {
   "cell_type": "markdown",
   "metadata": {},
   "source": [
    "In this assignment, we will use RNN neural network with one input layer (as many nodes as characters in alphabet), 1 hidden layer (with *tanh* as activation function), and one output layer  (as many nodes as characters in alphabet and *SoftMax* as activation function) with the loss function cross entropy (classification metric) over a sequence of characters. Then, we will train this network using sequence of characters from the book *The Goblet of Fire* by J.K. Rowling and Trump tweets, by using as target of each input character its following character in the text (like a moving window)."
   ]
  },
  {
   "cell_type": "markdown",
   "metadata": {},
   "source": [
    "## Exercise 1: Implement and train a vanilla RNN\n",
    "\n",
    "### 0.1 Read in the data\n",
    "\n",
    "The text is loaded as a string and contains 1107540 characters."
   ]
  },
  {
   "cell_type": "code",
   "execution_count": 2,
   "metadata": {},
   "outputs": [
    {
     "data": {
      "text/plain": [
       "(str, 1107540)"
      ]
     },
     "execution_count": 2,
     "metadata": {},
     "output_type": "execute_result"
    }
   ],
   "source": [
    "book_data = open('goblet_book.txt', 'r').read()\n",
    "type(book_data), len(book_data)"
   ]
  },
  {
   "cell_type": "markdown",
   "metadata": {},
   "source": [
    "These are the first 1000 characters of the text, first raw and then printed (without tabs '\\t', linebreaks '\\ln', etc)."
   ]
  },
  {
   "cell_type": "code",
   "execution_count": 3,
   "metadata": {},
   "outputs": [
    {
     "data": {
      "text/plain": [
       "'HARRY POTTER AND THE GOBLET OF FIRE\\n\\nCHAPTER ONE - THE RIDDLE HOUSE\\n\\n\\tThe villagers of Little Hangleron still called it \"the Riddle House,\" even though it had been many years since the Riddle family had lived there.  It stood on a hill overlooking the village, some of its windows boarded, tiles missing from its roof, and ivy spreading unchecked over its face.  Once a fine-looking manor, and easily the largest and grandest building for miles around, the Riddle House was now damp, derelict, and unoccupied.\\n\\tThe Little Hagletons all agreed that the old house was \"creepy.\"  Half a century ago, something strange and horrible had happened there, something that the older inhabitants of the village still liked to discuss when topics for gossip were scarce.  The story had been picked over so many times, and had been embroidered in so many places, that nobody was quite sure what the truth was anymore.  Every version of the tale, however, started in the same place:  Fifty years before, at daybrea'"
      ]
     },
     "execution_count": 3,
     "metadata": {},
     "output_type": "execute_result"
    }
   ],
   "source": [
    "book_data[0:1000]"
   ]
  },
  {
   "cell_type": "code",
   "execution_count": 4,
   "metadata": {},
   "outputs": [
    {
     "name": "stdout",
     "output_type": "stream",
     "text": [
      "HARRY POTTER AND THE GOBLET OF FIRE\n",
      "\n",
      "CHAPTER ONE - THE RIDDLE HOUSE\n",
      "\n",
      "\tThe villagers of Little Hangleron still called it \"the Riddle House,\" even though it had been many years since the Riddle family had lived there.  It stood on a hill overlooking the village, some of its windows boarded, tiles missing from its roof, and ivy spreading unchecked over its face.  Once a fine-looking manor, and easily the largest and grandest building for miles around, the Riddle House was now damp, derelict, and unoccupied.\n",
      "\tThe Little Hagletons all agreed that the old house was \"creepy.\"  Half a century ago, something strange and horrible had happened there, something that the older inhabitants of the village still liked to discuss when topics for gossip were scarce.  The story had been picked over so many times, and had been embroidered in so many places, that nobody was quite sure what the truth was anymore.  Every version of the tale, however, started in the same place:  Fifty years before, at daybrea\n"
     ]
    }
   ],
   "source": [
    "print(book_data[0:1000])"
   ]
  },
  {
   "cell_type": "markdown",
   "metadata": {},
   "source": [
    "Define a set containing the unique characters in the text. Its length K corresponds to the dimensionality of the output (and input) vector of our RNN."
   ]
  },
  {
   "cell_type": "code",
   "execution_count": 5,
   "metadata": {},
   "outputs": [],
   "source": [
    "book_chars = set(book_data)\n",
    "K = len(book_chars)"
   ]
  },
  {
   "cell_type": "markdown",
   "metadata": {},
   "source": [
    "Initialize map containers (Python dictionaries) and fill in the characters with the respective index in our alphabet."
   ]
  },
  {
   "cell_type": "code",
   "execution_count": 6,
   "metadata": {
    "scrolled": true
   },
   "outputs": [],
   "source": [
    "char_to_ind, ind_to_char = dict(), dict()\n",
    "for index, character in enumerate(book_chars):\n",
    "    char_to_ind[character] = index\n",
    "    ind_to_char[index] = character"
   ]
  },
  {
   "cell_type": "code",
   "execution_count": 7,
   "metadata": {
    "scrolled": false
   },
   "outputs": [
    {
     "data": {
      "text/plain": [
       "{'H': 0,\n",
       " 'f': 1,\n",
       " ' ': 2,\n",
       " 'u': 3,\n",
       " 'Q': 4,\n",
       " '4': 5,\n",
       " '.': 6,\n",
       " 'w': 7,\n",
       " 'q': 8,\n",
       " '2': 9,\n",
       " 'c': 10,\n",
       " 'C': 11,\n",
       " ')': 12,\n",
       " '_': 13,\n",
       " 'p': 14,\n",
       " 'h': 15,\n",
       " 'G': 16,\n",
       " '/': 17,\n",
       " 'Z': 18,\n",
       " 'n': 19,\n",
       " '6': 20,\n",
       " 'o': 21,\n",
       " '!': 22,\n",
       " 'K': 23,\n",
       " 'L': 24,\n",
       " 'm': 25,\n",
       " '\\n': 26,\n",
       " '-': 27,\n",
       " '0': 28,\n",
       " 'D': 29,\n",
       " 'b': 30,\n",
       " 'k': 31,\n",
       " 'g': 32,\n",
       " '7': 33,\n",
       " '^': 34,\n",
       " 'j': 35,\n",
       " 'R': 36,\n",
       " 'd': 37,\n",
       " 'x': 38,\n",
       " 'S': 39,\n",
       " '1': 40,\n",
       " '9': 41,\n",
       " 'P': 42,\n",
       " 'N': 43,\n",
       " 'W': 44,\n",
       " 'O': 45,\n",
       " ';': 46,\n",
       " 'e': 47,\n",
       " 'B': 48,\n",
       " '\\t': 49,\n",
       " '(': 50,\n",
       " ',': 51,\n",
       " 'y': 52,\n",
       " 't': 53,\n",
       " 'l': 54,\n",
       " 's': 55,\n",
       " 'Y': 56,\n",
       " 'U': 57,\n",
       " 'r': 58,\n",
       " ':': 59,\n",
       " 'X': 60,\n",
       " '3': 61,\n",
       " 'z': 62,\n",
       " 'I': 63,\n",
       " 'T': 64,\n",
       " 'F': 65,\n",
       " 'i': 66,\n",
       " \"'\": 67,\n",
       " 'J': 68,\n",
       " '}': 69,\n",
       " 'V': 70,\n",
       " 'v': 71,\n",
       " '\"': 72,\n",
       " 'A': 73,\n",
       " 'M': 74,\n",
       " 'E': 75,\n",
       " 'a': 76,\n",
       " '?': 77}"
      ]
     },
     "execution_count": 7,
     "metadata": {},
     "output_type": "execute_result"
    }
   ],
   "source": [
    "char_to_ind"
   ]
  },
  {
   "cell_type": "markdown",
   "metadata": {},
   "source": [
    "## 0.2 Set hyper-parameters & initialize the RNN's parameters\n",
    "## 0.3 Synthesize text from your randomly initialized RNN\n",
    "## 0.4 Implement the forward & backward pass of back-prop"
   ]
  },
  {
   "cell_type": "markdown",
   "metadata": {},
   "source": [
    "The following *RNN* Python class initialize the hyper-parameters matrix and contains the functions: *synthesize*, *forward*, *backward* and *train* with *AdaGrad* optimization.\n",
    "\n",
    "- *synthesize*: Receives as input a vector *h0* (the hidden state at sequence time 0), another vector *x0* which will represent the first one hot input vector to our RNN (first character), and an integer *length* denoting the length of the sequence you want to generate. Then, iterates the sequence length applying the forward equations and with the generated output probability distribution samples a character (its integer/index) which will be the input character for next sequence iteration.\n",
    "\n",
    "\n",
    "- *forward*: Receives a sequence $x$ of one hot input vectors (characters) and the hidden state *h0* at sequence time 0. These are the RNN forward equations:\n",
    "\n",
    "$\\quad \\quad for \\space t=1,..,length$\n",
    "\n",
    "$\\quad \\quad \\quad a^t_{[m,1]} = W_{[m,m]} \\times h^{t-1}_{[m,1]} + U_{[m,d]} \\times x^t_{[d,1]} + b_{[m,1]}$\n",
    "\n",
    "$\\quad \\quad \\quad h^t_{[m,1]} = tanh(a^t_{[m,1]}) \\quad where \\quad tanh(a^t_{ji})=\\frac{exp(a^t_{ji})-exp(-a^t_{ji})}{exp(a^t_{ji})+exp(-a^t_{ji})}$\n",
    "\n",
    "$\\quad \\quad \\quad o^t_{[K,1]} = V_{[K,m]} \\times h^t_{[m,1]} + c_{[K,1]}$\n",
    "\n",
    "$\\quad \\quad \\quad p^t_{[K,1]} = SoftMax\\big(o^t_{[K,1]}\\big) \\quad where \\quad SoftMax(o_{ji}^t)=\\frac{exp(o_{ji}^t)}{\\sum_{c=1}^K exp(o_{ci}^t)}$\n",
    "\n",
    "&emsp;&emsp; where $d$ is the input size (number of alphabet characters), $m$ is the hidden layer size, and $K$ is the output size (number of alphabet characters).\n",
    "\n",
    "- *backward*: Receives the inputs used in the *forward* function, its outputs $p$, $h$, $a$ which are the lists of final and intermediary vectors (by sequence iterations), and a sequence *y* of one hot output vectors (characters). These are the RNN backward equations:\n",
    "\n",
    "&emsp;&emsp; with the loss function:\n",
    "\n",
    "$\\quad \\quad L(x,y) = - \\sum_{t=1}^{length} log\\big({y^t_{[K,1]}}^T \\times p^t_{[K,1]}\\big)$\n",
    "\n",
    "&emsp;&emsp; its gradients respect to each parameter are:\n",
    "\n",
    "$\\quad \\quad \\frac{\\partial L}{\\partial V} = \\sum_{t=1}^{length} {g^t_{[1,K]}}^T \\times {h^t_{[m,1]}}^T \\quad where \\quad g^t_{[1,K]}=\\frac{\\partial L}{\\partial o^t}=-(y^t_{[K,1]}-p^t_{[K,1]})^T$\n",
    "\n",
    "$\\quad \\quad \\frac{\\partial L}{\\partial c} = \\sum_{t=1}^{length} {g^t_{[1,K]}}^T$\n",
    "\n",
    "$\\quad \\quad \\frac{\\partial L}{\\partial h^t} = \\bigg\\{\\begin{matrix} \\frac{\\partial L}{\\partial o^t}V_{[K,m]} \\quad if \\quad t=length\\\\ \\frac{\\partial L}{\\partial o^t}V_{[K,m]} + \\frac{\\partial L}{\\partial a^{t+1}}W_{[m,m]} \\quad if \\quad 1\\leq t<length\\end{matrix}$\n",
    "\n",
    "$\\quad \\quad \\frac{\\partial L}{\\partial a^t} = \\frac{\\partial L}{\\partial h^t} diag\\big(1-tanh^2(a^t_{[m,1]})\\big)_{[m,m]}$ \n",
    "\n",
    "$\\quad \\quad \\frac{\\partial L}{\\partial W} = \\sum_{t=1}^{length} {\\frac{\\partial L}{\\partial a^t}}^T \\times {h^{t-1}_{[m,1]}}^T$\n",
    "\n",
    "$\\quad \\quad \\frac{\\partial L}{\\partial U} = \\sum_{t=1}^{length} {\\frac{\\partial L}{\\partial a^t}}^T \\times {x^t_{[d,1]}}^T$\n",
    "\n",
    "$\\quad \\quad \\frac{\\partial L}{\\partial b} = \\sum_{t=1}^{length} {\\frac{\\partial L}{\\partial a^t}}^T$"
   ]
  },
  {
   "cell_type": "code",
   "execution_count": 8,
   "metadata": {},
   "outputs": [],
   "source": [
    "def one_hot(character_index, number_distinct_characters):\n",
    "    character_one_hot = np.zeros(shape=(number_distinct_characters,1))\n",
    "    character_one_hot[character_index,0] = 1\n",
    "    \n",
    "    return character_one_hot\n",
    "\n",
    "class RNN(object):\n",
    "    \n",
    "    def __init__(self, input_size, hidden_size, output_size, scale=0.01, seed=1):\n",
    "        self.output_size = output_size\n",
    "        self.hidden_size = hidden_size\n",
    "        self.input_size = input_size\n",
    "        \n",
    "        # Initialize the parameters matrix\n",
    "        self.b = np.zeros((hidden_size,1))\n",
    "        self.c = np.zeros((output_size,1))\n",
    "        np.random.seed(seed)\n",
    "        self.U = np.random.normal(size=(hidden_size,input_size), loc=0, scale=scale)\n",
    "        self.W = np.random.normal(size=(hidden_size,hidden_size), loc=0, scale=scale)\n",
    "        self.V = np.random.normal(size=(output_size,hidden_size), loc=0, scale=scale)\n",
    "\n",
    "    def tanh(self, a):\n",
    "        a = np.clip(a, -700, 700)\n",
    "        \n",
    "        return (np.exp(a)-np.exp(-a))/(np.exp(a)+np.exp(-a))\n",
    "    \n",
    "    def softmax(self, o):\n",
    "        o = np.clip(o, -700, 700)\n",
    "        exponential_o = np.exp(o)\n",
    "        p = exponential_o/exponential_o.sum(axis=0)\n",
    "        \n",
    "        return p\n",
    "\n",
    "    def synthesize(self, x0, h0, length, stop_character_one_hot=None):\n",
    "        Y = np.zeros(shape=(self.output_size,length))\n",
    "        x = x0\n",
    "        h_prev = h0\n",
    "        for t in range(length):\n",
    "            a = self.W@h_prev+self.U@x+self.b\n",
    "            h = self.tanh(a)\n",
    "            o = self.V@h+self.c\n",
    "            p = self.softmax(o)\n",
    "\n",
    "            # Create next sequence input randomly from predicted output distribution\n",
    "            x = np.random.multinomial(1, np.squeeze(p))[:,np.newaxis]\n",
    "\n",
    "            # Save the one-hot encoding of created next sequence input\n",
    "            Y[:,[t]] = x[:,[0]]\n",
    "            \n",
    "            # Break loop if created next sequence input is equal to given stop character\n",
    "            if all(x==stop_character_one_hot):\n",
    "                Y = Y[:,0:(t+1)]\n",
    "                break\n",
    "\n",
    "            # Update previous hidden state for next sequence iteration\n",
    "            h_prev = h\n",
    "\n",
    "        return Y\n",
    "\n",
    "    def forward(self, X, Y, h0):\n",
    "        \n",
    "        # Create empty lists for storing the final and intermediary vectors (by sequence iterations)\n",
    "        seq_length = X.shape[1]\n",
    "        p, o, h, a = [None]*seq_length, [None]*seq_length, [None]*seq_length, [None]*seq_length\n",
    "        \n",
    "        # Iterate the input sequence of one hot encoded characters\n",
    "        loss = 0\n",
    "        for t in range(seq_length):\n",
    "            if t==0:\n",
    "                a[t] = self.W@h0+self.U@X[:,[t]]+self.b\n",
    "            else:\n",
    "                a[t] = self.W@h[t-1]+self.U@X[:,[t]]+self.b\n",
    "            h[t] = self.tanh(a[t])\n",
    "            o[t] = self.V@h[t]+self.c\n",
    "            p[t] = self.softmax(o[t])\n",
    "            loss -= np.log(Y[:,[t]].T@p[t])[0,0]\n",
    "\n",
    "        return loss, p, [h0]+h, a\n",
    "\n",
    "    def backward(self, X, Y, p, h, a):\n",
    "        \n",
    "        # Extract initial hidden state (sequence time 0)\n",
    "        h0 = h[0]\n",
    "        h = h[1:]\n",
    "        \n",
    "        # Initialize the gradients matrix\n",
    "        GRADS = dict()\n",
    "        for parameter in ['b','c','W','U','V']:\n",
    "            GRADS[parameter] = np.zeros_like(vars(self)[parameter])\n",
    "        \n",
    "        # Iterate inversively the input sequence of one hot encoded characters\n",
    "        seq_length = X.shape[1]\n",
    "        grad_a = [None]*seq_length\n",
    "        for t in range((seq_length-1), -1, -1):\n",
    "            g = -(Y[:,[t]]-p[t]).T\n",
    "            GRADS['V'] += g.T@h[t].T\n",
    "            GRADS['c'] += g.T\n",
    "            if t<(seq_length-1):\n",
    "                dL_h = g@self.V+grad_a[t+1]@self.W\n",
    "            else:\n",
    "                dL_h = g@self.V\n",
    "            grad_a[t] = dL_h@np.diag(1-h[t][:,0]**2)\n",
    "            if t==0:\n",
    "                GRADS['W'] += grad_a[t].T@h0.T\n",
    "            else:\n",
    "                GRADS['W'] += grad_a[t].T@h[t-1].T\n",
    "            GRADS['U'] += grad_a[t].T@X[:,[t]].T\n",
    "            GRADS['b'] += grad_a[t].T\n",
    "\n",
    "        # Clipping gradients\n",
    "        for parameter in ['b','c','U','W','V']:\n",
    "            GRADS[parameter] = np.clip(GRADS[parameter], -5, 5)\n",
    "\n",
    "        return GRADS\n",
    "    \n",
    "    def train(self,\n",
    "              text,\n",
    "              ind_to_char,\n",
    "              char_to_ind,\n",
    "              seq_length,\n",
    "              eta=0.1,\n",
    "              number_updates=100000,\n",
    "              max_epochs=np.inf,\n",
    "              find_best_network=True,\n",
    "              continue_previous_training=False,\n",
    "              verbose=False,\n",
    "              verbose_show_loss_frequency=1000,\n",
    "              verbose_show_sample_frequency=10000,\n",
    "              verbose_show_sample_length=200,\n",
    "              verbose_show_sample_stop_character=None):\n",
    "        \n",
    "        # Check if any current update or smooth loss exist in the RNN class\n",
    "        previous_update_or_loss_exist = True\n",
    "        try:\n",
    "            self.current_update\n",
    "            self.smooth_loss\n",
    "        except:\n",
    "            previous_update_or_loss_exist = False\n",
    "        \n",
    "        # If not continuation of previous training...\n",
    "        if not continue_previous_training or not previous_update_or_loss_exist:\n",
    "            \n",
    "            # Initialize current update and smooth loss list\n",
    "            self.current_update = 1\n",
    "            self.smooth_loss = []\n",
    "            \n",
    "            # Create AdaGrad memory parameters matrix\n",
    "            for parameter in ['b','c','U','W','V']:\n",
    "                vars(self)[parameter+'_memory'] = np.zeros_like(vars(self)[parameter])\n",
    "            \n",
    "            # Define minimum loss and initialize best network parameters matrix (if required)\n",
    "            if find_best_network:\n",
    "                self.smooth_loss_min = np.inf\n",
    "                self.smooth_loss_min_update = 1\n",
    "                for parameter in ['b','c','U','W','V']:\n",
    "                    vars(self)[parameter+'_best'] = vars(self)[parameter]\n",
    "\n",
    "        # Iterate updates\n",
    "        current_epoch = 1\n",
    "        while self.current_update<=number_updates:\n",
    "            \n",
    "            # Define the initial previous hidden state for next epoch (full text iteration)\n",
    "            h_prev = np.zeros(shape=(self.hidden_size,1))\n",
    "\n",
    "            # Iterate input text by blocks of seq_length characters\n",
    "            for e in range(0, len(text)-1, seq_length):\n",
    "                \n",
    "                if e>len(text)-seq_length-1:\n",
    "                    break\n",
    "\n",
    "                # Generate the sequence data for the iteration (one hot encoding for each character)\n",
    "                X_chars, Y_chars = text[e:(e+seq_length)], text[(e+1):(e+1+seq_length)]\n",
    "                X = np.zeros(shape=(self.input_size,seq_length))\n",
    "                Y = np.zeros(shape=(self.output_size,seq_length))\n",
    "                for t in range(seq_length):\n",
    "                    X[:,[t]] = one_hot(char_to_ind[X_chars[t]], self.output_size)\n",
    "                    Y[:,[t]] = one_hot(char_to_ind[Y_chars[t]], self.output_size)\n",
    "\n",
    "                # Forward and backward pass\n",
    "                loss, p, h, a = self.forward(X, Y, h_prev)\n",
    "                newGRADS = self.backward(X, Y, p, h, a)\n",
    "\n",
    "                # Store smoothed loss\n",
    "                if self.current_update==1:\n",
    "                    self.smooth_loss.append(loss)\n",
    "                else:\n",
    "                    self.smooth_loss.append(0.999*self.smooth_loss[-1]+0.001*loss)\n",
    "\n",
    "                # AdaGrad update step\n",
    "                for parameter in ['b','c','U','W','V']:\n",
    "                    vars(self)[parameter+'_memory'] += newGRADS[parameter]**2\n",
    "                    vars(self)[parameter] += -eta*newGRADS[parameter]/ \\\n",
    "                        np.sqrt(vars(self)[parameter+'_memory']+np.spacing(1))\n",
    "                \n",
    "                # If best loss improved this network iteration parameters (if required)\n",
    "                if find_best_network and self.smooth_loss[-1]<self.smooth_loss_min:\n",
    "                    self.smooth_loss_min = self.smooth_loss[-1]\n",
    "                    self.smooth_loss_min_update = self.current_update\n",
    "                \n",
    "                if verbose:\n",
    "                    \n",
    "                    # Show loss\n",
    "                    shown_loss = False\n",
    "                    if self.current_update%verbose_show_loss_frequency==0 or self.current_update==1:\n",
    "                        shown_loss = True\n",
    "                        print('Update '+str(self.current_update)+' with loss: '+ \\\n",
    "                              str(self.smooth_loss[-1]))\n",
    "                        \n",
    "                    # Show a synthesized sample\n",
    "                    if self.current_update%verbose_show_sample_frequency==0 or self.current_update==1:\n",
    "                        synthesize_one_hot = \\\n",
    "                            self.synthesize(x0=X[:,[0]], h0=h_prev, length=verbose_show_sample_length,\n",
    "                                            stop_character_one_hot=verbose_show_sample_stop_character)\n",
    "                        synthesize_characters = []\n",
    "                        for index in range(synthesize_one_hot.shape[1]):\n",
    "                            character = ind_to_char[np.where(synthesize_one_hot[:,index]>0)[0][0]]\n",
    "                            synthesize_characters.append(character)\n",
    "                        if shown_loss:\n",
    "                            print('Synthesized sample:\\n'+''.join(synthesize_characters)+'\\n')\n",
    "                        else:\n",
    "                            print('Update '+str(self.current_update)+' with loss: '+ \\\n",
    "                                  str(self.smooth_loss[-1])+'\\nSynthesized sample:\\n'+ \\\n",
    "                                  ''.join(synthesize_characters)+'\\n')\n",
    "                    \n",
    "                self.current_update += 1\n",
    "                if self.current_update>number_updates:\n",
    "                    break\n",
    "\n",
    "                # Update the previous hidden state for next iteration\n",
    "                h_prev = h[seq_length]\n",
    "\n",
    "            current_epoch += 1\n",
    "            if current_epoch>max_epochs:\n",
    "                break\n",
    "        \n",
    "        # Update the final training parameters with the best stored network (if required)\n",
    "        if find_best_network:\n",
    "            for parameter in ['b','c','U','W','V']:\n",
    "                vars(self)[parameter] = vars(self)[parameter+'_best']"
   ]
  },
  {
   "cell_type": "markdown",
   "metadata": {},
   "source": [
    "### Checking gradients\n",
    "\n",
    "Initialize the created class RNN with $m=100$ hidden layer size and $K=78$ input layer size (number of characters in our alphabet)."
   ]
  },
  {
   "cell_type": "code",
   "execution_count": 9,
   "metadata": {},
   "outputs": [
    {
     "data": {
      "text/plain": [
       "((100, 1), (100, 78), (100, 100), (78, 100), (78, 1))"
      ]
     },
     "execution_count": 9,
     "metadata": {},
     "output_type": "execute_result"
    }
   ],
   "source": [
    "K = len(book_chars)\n",
    "m = 100\n",
    "myRNN = RNN(input_size=K, hidden_size=m, output_size=K)\n",
    "myRNN.b.shape, myRNN.U.shape, myRNN.W.shape, myRNN.V.shape, myRNN.c.shape"
   ]
  },
  {
   "cell_type": "markdown",
   "metadata": {},
   "source": [
    "Let's use the first $seq\\_length=25$ characters of the text as input $x$ and the next character in the book for each character as output $y$."
   ]
  },
  {
   "cell_type": "code",
   "execution_count": 10,
   "metadata": {},
   "outputs": [
    {
     "data": {
      "text/plain": [
       "('HARRY POTTER AND THE GOBL', 'ARRY POTTER AND THE GOBLE')"
      ]
     },
     "execution_count": 10,
     "metadata": {},
     "output_type": "execute_result"
    }
   ],
   "source": [
    "seq_length = 25\n",
    "X_chars = book_data[0:seq_length]\n",
    "Y_chars = book_data[1:(1+seq_length)]\n",
    "X_chars, Y_chars"
   ]
  },
  {
   "cell_type": "markdown",
   "metadata": {},
   "source": [
    "Convert both character sequences $x$ and $y$ into one hot encoded vectors (matrix of $K$ rows and $seq\\_length$ columns)."
   ]
  },
  {
   "cell_type": "code",
   "execution_count": 11,
   "metadata": {},
   "outputs": [],
   "source": [
    "X = np.zeros(shape=(K,seq_length))\n",
    "Y = np.zeros(shape=(K,seq_length))\n",
    "for t in range(seq_length):\n",
    "    X[:,[t]] = one_hot(character_index=char_to_ind[X_chars[t]], number_distinct_characters=K)\n",
    "    Y[:,[t]] = one_hot(character_index=char_to_ind[Y_chars[t]], number_distinct_characters=K)"
   ]
  },
  {
   "cell_type": "markdown",
   "metadata": {},
   "source": [
    "Compute the gradients with respect to the initialized parameters and created sequence."
   ]
  },
  {
   "cell_type": "code",
   "execution_count": 12,
   "metadata": {},
   "outputs": [],
   "source": [
    "h0 = np.zeros(shape=(myRNN.hidden_size,1))\n",
    "loss, p, h, a = myRNN.forward(X, Y, h0)\n",
    "newGRADS = myRNN.backward(X, Y, p, h, a)"
   ]
  },
  {
   "cell_type": "markdown",
   "metadata": {},
   "source": [
    "#### Reformulating ComputeGradsNum.m in Python (numerically computed gradient with difference method)"
   ]
  },
  {
   "cell_type": "code",
   "execution_count": 13,
   "metadata": {},
   "outputs": [],
   "source": [
    "def ComputeGradsNum(RNN, X, Y, h0, h=1e-4):\n",
    "   \n",
    "    # Iterate parameters and compute gradients numerically\n",
    "    GRADS = dict()\n",
    "    for parameter in ['b','c','U','W','V']:\n",
    "        GRADS[parameter] = np.zeros_like(vars(RNN)[parameter])\n",
    "        for i in range(vars(RNN)[parameter].shape[0]):\n",
    "            for j in range(vars(RNN)[parameter].shape[1]):\n",
    "                RNN_try = copy.deepcopy(RNN)\n",
    "                vars(RNN_try)[parameter][i,j] += h\n",
    "                loss2, _, _, _ = RNN_try.forward(X, Y, h0)\n",
    "                vars(RNN_try)[parameter][i,j] -= 2*h\n",
    "                loss1, _, _, _ = RNN_try.forward(X, Y, h0)\n",
    "                GRADS[parameter][i,j] = (loss2-loss1)/(2*h)\n",
    "    \n",
    "    return GRADS"
   ]
  },
  {
   "cell_type": "markdown",
   "metadata": {},
   "source": [
    "Compute the gradients numerically with respect to the initialized parameters and created sequence."
   ]
  },
  {
   "cell_type": "code",
   "execution_count": 14,
   "metadata": {},
   "outputs": [],
   "source": [
    "newGRADS_num = ComputeGradsNum(myRNN, X, Y, h0)"
   ]
  },
  {
   "cell_type": "markdown",
   "metadata": {},
   "source": [
    "#### Compare the numerically and analitically computed gradients\n",
    "\n",
    "We want to check that the gradients computed in the class function correspond to the correct gradients. To do this, we compare the gradient obtained by the network with the gradient computed with the difference method, after initializing the parameters as mentioned."
   ]
  },
  {
   "cell_type": "code",
   "execution_count": 15,
   "metadata": {},
   "outputs": [
    {
     "name": "stdout",
     "output_type": "stream",
     "text": [
      "For b, the % of absolute errors <1e-6 is 100.0 and the maximum is 6.557077381064147e-10\n",
      "For c, the % of absolute errors <1e-6 is 100.0 and the maximum is 7.270448132423724e-10\n",
      "For U, the % of absolute errors <1e-6 is 100.0 and the maximum is 3.70207003941303e-10\n",
      "For W, the % of absolute errors <1e-6 is 100.0 and the maximum is 4.234456931146227e-10\n",
      "For V, the % of absolute errors <1e-6 is 100.0 and the maximum is 4.3775381550306995e-10\n"
     ]
    }
   ],
   "source": [
    "for parameter in ['b','c','U','W','V']:\n",
    "    error = abs(newGRADS_num[parameter]-newGRADS[parameter])\n",
    "    mean_error = np.mean(error<1e-6)\n",
    "    max_error = error.max()\n",
    "    print('For '+parameter+', the % of absolute errors <1e-6 is '+str(mean_error*100)+ \\\n",
    "          ' and the maximum is '+str(max_error))"
   ]
  },
  {
   "cell_type": "markdown",
   "metadata": {},
   "source": [
    "# 0.5 Train your RNN using AdaGrad"
   ]
  },
  {
   "cell_type": "markdown",
   "metadata": {},
   "source": [
    "The class RNN contains the *train* function which does the training using *AdaGrad* optimization method and receives as input a text, a sequence length for creating the characters sequence at each iteration, and a number of updates or epochs to iterate. As we are implementing SGD the loss from one training sequence to the next will vary a lot. Then, it is useful to keep track of a smoothed version of the loss over the iterations as:\n",
    "\n",
    "$$smooth\\_loss=0.999*smooth\\_loss+0.001*loss$$\n",
    "\n",
    "Note that in each forward and backward iteration, the previous hidden state *h0* is a zero vector in the first update of each epoch (full iteration of all text), and after that the hidden state of the last character in the previous iteration.\n",
    "\n",
    "The equations for each *AdaGrad* update with learning rate $\\eta$ are:\n",
    "\n",
    "$\\quad \\quad for \\space \\theta=\\{W,U,V,b,c\\}:$\n",
    "\n",
    "$\\quad \\quad \\quad memory^{\\space update}_{\\theta} = memory^{\\space update-1}_{\\theta} + {\\frac{\\partial L}{\\partial \\theta^{\\space update}}}^2$\n",
    "\n",
    "$\\quad \\quad \\quad \\theta^{\\space update+1} = \\theta^{\\space update}-\\frac{\\eta}{\\sqrt{memory^{\\space update}_{\\theta}}} \\frac{\\partial L}{\\partial \\theta^{\\space update}}$\n",
    "\n",
    "Now, let's train our RNN with learning rate 0.1, 100.000 updates and sequence length 25."
   ]
  },
  {
   "cell_type": "code",
   "execution_count": 16,
   "metadata": {
    "scrolled": false
   },
   "outputs": [
    {
     "name": "stdout",
     "output_type": "stream",
     "text": [
      "Update 1 with loss: 108.91960099079333\n",
      "Synthesized sample:\n",
      "IUhMCWVc1Ae3I}E;iz\"z/ctQ/df (zo_pBe)l.'_LVIzu}!kgR)eWFFqbKHYaF(A'jmTE\",wx,^jP!/HDl4m!nyb}B\n",
      "\n",
      "-wO.m4NVI0Kc17^JCL6SCl\t'7YOfM-;n!cEmj)w}Yfd1Ib\"-:G'M?0bI-Ga6yc'O/enfbf9ZuNuFI_s^IkrRBoC\n",
      "odmL^9oHEAywjqmR FmT\n",
      "\n",
      "Update 10000 with loss: 57.80571918340973\n",
      "Synthesized sample:\n",
      "tond  thery waretne FreracsAnyky the qonllyey pivone the kos tut, isdink.\n",
      "\"\n",
      "\tHarton bawse line tes.\n",
      "Her vo woruigt bon't ofumery thabelleming ssing soutpens wher ith and e bis wiceld thas senese kedt?\n",
      "\n",
      "Update 20000 with loss: 54.00974725778832\n",
      "Synthesized sample:\n",
      "Hardned. And nostireter in, iss as yee ane?  \".\n",
      "\"\"Wernoogtiring Harlye bort.\n",
      "Yo weling Sot hom hoill waid he wo mamly fhatt ger Gan ath htas alich st him wall.\n",
      "H\"O hart, ray it hie stifne to forde cof\n",
      "\n",
      "Update 30000 with loss: 52.10948981789396\n",
      "Synthesized sample:\n",
      "uthin Sfle wought head wald, seikih her and He.  \"Treraround tar's ow yut kforey - the Pary.\".. sughther, stich age has ate on ary ward das. Dourdu aid ptisten, mattatoths che prone inct his thous the\n",
      "\n",
      "Update 40000 with loss: 51.029675592606374\n",
      "Synthesized sample:\n",
      " Snemong mowned sily lish avel was at masner's e fore,\" chem, have Vacen't it ham hany, beat and cowime the there to bel, wast bee to re and fume, as he suck the.  Anks ill westhan that (hid to xienon\n",
      "\n",
      "Update 50000 with loss: 51.64741964101803\n",
      "Synthesized sample:\n",
      "trromeund the matizerdill the's opslied saster surre hto rowm's stintile he shansuan so it Bas Pood be?  Harry on a kpoy, Didning or Lugithe.  CI wict potouns theabling and Bilked inctar?\"  salen tink\n",
      "\n",
      "Update 60000 with loss: 50.4226400928755\n",
      "Synthesized sample:\n",
      "ol, the durtched frowners reads hes offa.  Proush gook lair.\n",
      "\"Sil efonc and sco frofr-hid an yeaspe plomeinved, akigher..  \"Nechand,\" said Mod beded ta Rfunded new arook, was-and. Whoch do as the go n\n",
      "\n",
      "Update 70000 with loss: 49.70514044701429\n",
      "Synthesized sample:\n",
      "o Booky folcliel muving where Pppitling of hive his wat,\"\n",
      "Harry, and sten, jushane sllowings of rount you didbotred of to a jeamoter sasing nell thuy I on now yly atemling chen of and dinged ong int d\n",
      "\n",
      "Update 80000 with loss: 48.417287578244256\n",
      "Synthesized sample:\n",
      "o with llom core ho walk insling - Harry timione has Herpallyly,  Cofledoly wa past taid \"its, sam was sould, bod irber, Asly athinil ofore Harrywash ond the walle!\"\n",
      "\"Ichan foudgeding Dece wisth, rem.\n",
      "\n",
      "Update 90000 with loss: 48.90668491320197\n",
      "Synthesized sample:\n",
      "t had Eses, ands tual ound him se.  Harryeg.  Hout bace ot hadn of was wistind im - starolse way sos cout fonded och frith to rour siceund the por raice wavored.  Fre acher to for a its coll rearor.\n",
      "H\n",
      "\n",
      "Update 100000 with loss: 49.8169922937866\n",
      "Synthesized sample:\n",
      "ont-\" Sastiokes, \"Trogbyent a wagk eally tit his beat sepor they Mr. Simayt\n",
      "\tArving newty, do intrint, back thatk then, \"Itward Patat the rumpesaed woudetrit, jadle itched itt in the hoaroresser rough\n",
      "\n"
     ]
    }
   ],
   "source": [
    "myRNN.train(text=book_data,\n",
    "            ind_to_char=ind_to_char,\n",
    "            char_to_ind=char_to_ind,\n",
    "            seq_length=25,\n",
    "            eta=0.1,\n",
    "            number_updates=100000,\n",
    "            max_epochs=np.inf,\n",
    "            find_best_network=True,\n",
    "            continue_previous_training=False,\n",
    "            verbose=True,\n",
    "            verbose_show_loss_frequency=10000,\n",
    "            verbose_show_sample_frequency=10000,\n",
    "            verbose_show_sample_length=200,\n",
    "            verbose_show_sample_stop_character=None)"
   ]
  },
  {
   "cell_type": "markdown",
   "metadata": {},
   "source": [
    "#### Visualization of the learning curve"
   ]
  },
  {
   "cell_type": "code",
   "execution_count": 17,
   "metadata": {},
   "outputs": [],
   "source": [
    "def plot_learning_curve(smooth_loss, title='', length_text=None, seq_length=None):\n",
    "    \n",
    "    # Plot the learning curve\n",
    "    _, ax = plt.subplots(1, 1, figsize=(15,5))\n",
    "    plt.title('Learning curve '+title)\n",
    "    ax.plot(range(1, len(smooth_loss)+1), smooth_loss)\n",
    "        \n",
    "    # Find the optimal metric value and the corresponding update\n",
    "    optimal_update = np.argmin(smooth_loss)\n",
    "    optimal_loss = np.round(smooth_loss[optimal_update], 4)\n",
    "    label = 'Optimal training loss: '+str(optimal_loss)+' at update '+str(optimal_update+1)\n",
    "    ax.axvline(optimal_update, c='green', linestyle='--', linewidth=1, label=label)\n",
    "        \n",
    "    # Plot vertical red lines each epoch (if required)\n",
    "    if length_text is not None and seq_length is not None:\n",
    "        updates_per_epoch = len([e for e in range(0, length_text-1, seq_length) \\\n",
    "                                 if e<=length_text-seq_length-1])\n",
    "        for e in range(updates_per_epoch, len(smooth_loss)+1, updates_per_epoch):\n",
    "            label = Epoch' if e==updates_per_epoch else ''\n",
    "            ax.axvline(e, c='red', linestyle='--', linewidth=1, label=label)\n",
    "        \n",
    "    # Add axis, legend and grid\n",
    "    ax.set_xlabel('Update step')\n",
    "    ax.set_ylabel('Loss')\n",
    "    ax.legend()\n",
    "    ax.grid(True)"
   ]
  },
  {
   "cell_type": "markdown",
   "metadata": {},
   "source": [
    "This is the learning curve of the previous training."
   ]
  },
  {
   "cell_type": "code",
   "execution_count": 18,
   "metadata": {},
   "outputs": [
    {
     "data": {
      "image/png": "[encoded data removed]",
      "text/plain": [
       "<Figure size 1080x360 with 1 Axes>"
      ]
     },
     "metadata": {
      "needs_background": "light"
     },
     "output_type": "display_data"
    }
   ],
   "source": [
    "title = 'for 100000 updates, eta 0.1, and sequence length 25'\n",
    "plot_learning_curve(myRNN.smooth_loss, title=title, length_text=len(book_data), seq_length=25)\n",
    "plt.savefig('Figures/'+str(figure)+'_Curve_100000.png', bbox_inches='tight'); figure+=1"
   ]
  },
  {
   "cell_type": "markdown",
   "metadata": {},
   "source": [
    "#### Synthesize a passage of length 1000 characters from our trained RNN"
   ]
  },
  {
   "cell_type": "code",
   "execution_count": 19,
   "metadata": {},
   "outputs": [
    {
     "name": "stdout",
     "output_type": "stream",
     "text": [
      "e rmucksed oumacon's your yut neasar as loch the core, sushice he drione, rischearte she Galpert!  Yedorands wexlise, in, qumpant the seares morwit in \"Rot int'.  He hildun alley.\n",
      "\"No.  Ron juwt yout a the muene he sow you prake, leart, chtird tos hims at uce mowos ary, Howt had choS to Scouthing the Man o Domfy coutt pregeping fouthlly tryed the stalt criane.  \"Try is the heeis, sep?  Harry ikan thou!\"  said Glanck the to dut, titton, rerel?\"\n",
      "\"Tount a was scoppinopenning sWeack he turtund me. NA with sightes, elficiunionor the opented, nooking and over and now and Harribley tow non themonge nowet,\" sowh the dent Coone the mouts it itt, have bey ming peates; that at to the beth, onting stomearrop cally her hay the stabbinmture and what slook frotway this rast!\"\n",
      "Tho Hes seulliogfightcaiss kner bet wa escey, ano\" saims til sadd a peane tart, the slablled and pook ay beat, youch the on ine seepporide got speach the aslod a foony grousming,\" said -\"\n",
      "\"D're gotle -roweblal meet eescald ase e\n"
     ]
    }
   ],
   "source": [
    "synthesize_one_hot = myRNN.synthesize(x0=X[:,[0]], h0=h0, length=1000)\n",
    "synthesize_characters = []\n",
    "for index in range(synthesize_one_hot.shape[1]):\n",
    "    character = ind_to_char[np.where(synthesize_one_hot[:,index]>0)[0][0]]\n",
    "    synthesize_characters.append(character)\n",
    "print(''.join(synthesize_characters))"
   ]
  },
  {
   "cell_type": "markdown",
   "metadata": {},
   "source": [
    "#### Continue the training for 200.000 updates more"
   ]
  },
  {
   "cell_type": "code",
   "execution_count": 20,
   "metadata": {},
   "outputs": [
    {
     "name": "stdout",
     "output_type": "stream",
     "text": [
      "Update 150000 with loss: 48.496360751274466\n",
      "Synthesized sample:\n",
      "theseause tull, tho; yovet, Peoved - Aw his befpet. N\"\n",
      "Them, arlind heaggbled was welt wanked of exploiper the Gecar of agtlizew,\" shem shadly os in, applon's thew. Weeld there droupan verit and sagoi\n",
      "\n",
      "Update 200000 with loss: 48.080461308088466\n",
      "Synthesized sample:\n",
      "um, Not. \"Yout hew the Sogly for Pecuorout couring could gousned thom fast, the bood of I dart of the kno for Vashevery, this in it cam corouth frest he levang.\n",
      "\"Wery Moody bore very, ic midled woowes\n",
      "\n",
      "Update 250000 with loss: 46.324554442432714\n",
      "Synthesized sample:\n",
      "ze raseednate norise wece tore loughor attontfonc whond Chat have roumpels amboutlith Lad-then frogeed his bace gat for dappestesss,\" said \"saz was witele as hakely looked abloppraid rook to terurnoil\n",
      "\n",
      "Update 300000 with loss: 45.68603621623406\n",
      "Synthesized sample:\n",
      "s he's month had beturttenconoom puckinst in the ond of he dadtle that worbong finds down, youen intiizand bode jome, and watcher, Bresen aster Lode deage you the sholbore edge wouzass, stlinse perill\n",
      "\n"
     ]
    }
   ],
   "source": [
    "myRNN.train(text=book_data,\n",
    "            ind_to_char=ind_to_char,\n",
    "            char_to_ind=char_to_ind,\n",
    "            seq_length=25,\n",
    "            eta=0.1,\n",
    "            number_updates=100000+200000,\n",
    "            max_epochs=np.inf,\n",
    "            find_best_network=True,\n",
    "            continue_previous_training=True,\n",
    "            verbose=True,\n",
    "            verbose_show_loss_frequency=50000,\n",
    "            verbose_show_sample_frequency=50000,\n",
    "            verbose_show_sample_length=200,\n",
    "            verbose_show_sample_stop_character=None)"
   ]
  },
  {
   "cell_type": "markdown",
   "metadata": {},
   "source": [
    "This is the learning curve of the previous training."
   ]
  },
  {
   "cell_type": "code",
   "execution_count": 21,
   "metadata": {},
   "outputs": [
    {
     "data": {
      "image/png": "[encoded data removed]",
      "text/plain": [
       "<Figure size 1080x360 with 1 Axes>"
      ]
     },
     "metadata": {
      "needs_background": "light"
     },
     "output_type": "display_data"
    }
   ],
   "source": [
    "# Plot the learning curve\n",
    "title = 'for 300000 updates, eta 0.1, and sequence length 25'\n",
    "plot_learning_curve(myRNN.smooth_loss, title=title, length_text=len(book_data), seq_length=25)\n",
    "plt.savefig('Figures/'+str(figure)+'_Curve_300000.png', bbox_inches='tight'); figure+=1"
   ]
  },
  {
   "cell_type": "markdown",
   "metadata": {},
   "source": [
    "Let's synthesize another passage of length 1000 characters from our re-trained RNN."
   ]
  },
  {
   "cell_type": "code",
   "execution_count": 22,
   "metadata": {},
   "outputs": [
    {
     "name": "stdout",
     "output_type": "stream",
     "text": [
      "EShiuld of lith; theisher of exerssed, compfinve, bednight's Hold in's dind Hey?\"\n",
      "\"Dow ick to chis nots'rap steds has comeresed comit?\" have weple jost ten, I Clave watthawd at bleagrold to alout wink would how. \"Dary,\" looge. CJousk to.  Harry.\n",
      "\"You the word.  Them hinged.\n",
      "\"\n",
      "\"Mar peail seem, were oping speaway and smired the stive veet ican bound and shere of the quire went felt.  Cowen an and they houreTy haddne.\n",
      "Cikau's sory!\n",
      "\"\"thapust the comess, thoseor just voulh ad acdarioussy....\n",
      "\"Loway by wis whee for when watel snaking reen go or wastnot cowhing it, get and endine the good with grounbe Dobul the naustan, you witht dying stitaken up bein, yencreast worrding, the to to Men'r ganes.\"\n",
      "\n",
      "Ron the Me. UMan, coss youl rether to who Dide hisure thampaple the pofederobste in Pottsime up, ant, dasOm, no tenard bodned a rofe lougher thele in sagrinst though seak Enher, I reture in upus an a doned it the \"Magbod.  No somecone down mirey a Frssy they vountongned toly youme as burry spat ben\n"
     ]
    }
   ],
   "source": [
    "synthesize_one_hot = myRNN.synthesize(x0=X[:,[0]], h0=h0, length=1000)\n",
    "synthesize_characters = []\n",
    "for index in range(synthesize_one_hot.shape[1]):\n",
    "    character = ind_to_char[np.where(synthesize_one_hot[:,index]>0)[0][0]]\n",
    "    synthesize_characters.append(character)\n",
    "print(''.join(synthesize_characters))"
   ]
  },
  {
   "cell_type": "markdown",
   "metadata": {},
   "source": [
    "# Exercise 2: Optional for bonus points\n",
    "\n",
    "## Synthesize Donald Trump tweets instead of Harry Potter"
   ]
  },
  {
   "cell_type": "markdown",
   "metadata": {},
   "source": [
    "Load the Trump tweets downloaded from https://github.com/bpb27/trump_tweet_data_archive."
   ]
  },
  {
   "cell_type": "code",
   "execution_count": 23,
   "metadata": {
    "scrolled": true
   },
   "outputs": [],
   "source": [
    "files = ['condensed_2009.JSON','condensed_2010.JSON','condensed_2011.JSON','condensed_2012.JSON',\n",
    "         'condensed_2013.JSON','condensed_2014.JSON','condensed_2015.JSON','condensed_2016.JSON',\n",
    "         'condensed_2017.JSON','condensed_2018.JSON']\n",
    "tweets = []\n",
    "for file in files:\n",
    "    with open(file) as open_file:\n",
    "        tweets += [tweet['text'] for tweet in json.load(open_file)]"
   ]
  },
  {
   "cell_type": "markdown",
   "metadata": {},
   "source": [
    "There are 36307 tweets from 2009 to 2018."
   ]
  },
  {
   "cell_type": "code",
   "execution_count": 24,
   "metadata": {},
   "outputs": [
    {
     "data": {
      "text/plain": [
       "36307"
      ]
     },
     "execution_count": 24,
     "metadata": {},
     "output_type": "execute_result"
    }
   ],
   "source": [
    "len(tweets)"
   ]
  },
  {
   "cell_type": "markdown",
   "metadata": {},
   "source": [
    "These are the first 5 tweets of Trump:"
   ]
  },
  {
   "cell_type": "code",
   "execution_count": 25,
   "metadata": {},
   "outputs": [
    {
     "data": {
      "text/plain": [
       "['From Donald Trump: Wishing everyone a wonderful holiday & a happy, healthy, prosperous New Year. Let’s think like champions in 2010!',\n",
       " 'Trump International Tower in Chicago ranked 6th tallest building in world by Council on Tall Buildings & Urban Habitat http://bit.ly/sqvQq',\n",
       " 'Wishing you and yours a very Happy and Bountiful Thanksgiving!',\n",
       " \"Donald Trump Partners with TV1 on New Reality Series Entitled, Omarosa's Ultimate Merger: http://tinyurl.com/yk5m3lc\",\n",
       " '--Work has begun, ahead of schedule, to build the greatest golf course in history: Trump International – Scotland.']"
      ]
     },
     "execution_count": 25,
     "metadata": {},
     "output_type": "execute_result"
    }
   ],
   "source": [
    "tweets[0:5]"
   ]
  },
  {
   "cell_type": "markdown",
   "metadata": {},
   "source": [
    "Let's detect non common ASCII characters (e.g. emojis, Chinese characters, etc.) to reduce the dimensionality of the alphabet."
   ]
  },
  {
   "cell_type": "code",
   "execution_count": 26,
   "metadata": {
    "scrolled": true
   },
   "outputs": [
    {
     "data": {
      "text/plain": [
       "{'’': 8217,\n",
       " '–': 8211,\n",
       " '“': 8220,\n",
       " '”': 8221,\n",
       " '\\n': 10,\n",
       " '‘': 8216,\n",
       " '\\xa0': 160,\n",
       " '…': 8230,\n",
       " '\\r': 13,\n",
       " '—': 8212,\n",
       " '£': 163,\n",
       " '―': 8213,\n",
       " 'é': 233,\n",
       " '❤': 10084,\n",
       " '️': 65039,\n",
       " '😳': 128563,\n",
       " '👍': 128077,\n",
       " '«': 171,\n",
       " '»': 187,\n",
       " '🌚': 127770,\n",
       " 'º': 186,\n",
       " '😢': 128546,\n",
       " '🇺': 127482,\n",
       " '🇸': 127480,\n",
       " '®': 174,\n",
       " '😂': 128514,\n",
       " '♡': 9825,\n",
       " 'É': 201,\n",
       " '👌': 128076,\n",
       " '☺': 9786,\n",
       " '★': 9733,\n",
       " '♥': 9829,\n",
       " '👏': 128079,\n",
       " '\\u200e': 8206,\n",
       " 'è': 232,\n",
       " 'Ｒ': 65330,\n",
       " 'Ｔ': 65332,\n",
       " '☞': 9758,\n",
       " '💗': 128151,\n",
       " '💙': 128153,\n",
       " '\\u200f': 8207,\n",
       " '🙏': 128591,\n",
       " '€': 8364,\n",
       " '💔': 128148,\n",
       " '😘': 128536,\n",
       " '😄': 128516,\n",
       " '📖': 128214,\n",
       " '🎉': 127881,\n",
       " '😍': 128525,\n",
       " '💯': 128175,\n",
       " '🔥': 128293,\n",
       " '💁': 128129,\n",
       " '💞': 128158,\n",
       " '☝': 9757,\n",
       " '💪': 128170,\n",
       " '✊': 9994,\n",
       " '😬': 128556,\n",
       " '™': 8482,\n",
       " '✌': 9996,\n",
       " '✈': 9992,\n",
       " '➡': 10145,\n",
       " '🗽': 128509,\n",
       " '🙌': 128588,\n",
       " '💰': 128176,\n",
       " '\\x92': 146,\n",
       " '✔': 10004,\n",
       " '🏈': 127944,\n",
       " '🐘': 128024,\n",
       " '💕': 128149,\n",
       " '😑': 128529,\n",
       " '👑': 128081,\n",
       " '🌹': 127801,\n",
       " '💋': 128139,\n",
       " '🙅': 128581,\n",
       " '‼': 8252,\n",
       " '🍻': 127867,\n",
       " '⛳': 9971,\n",
       " '😝': 128541,\n",
       " '´': 180,\n",
       " '😁': 128513,\n",
       " 'ı': 305,\n",
       " '📷': 128247,\n",
       " '🍷': 127863,\n",
       " '👀': 128064,\n",
       " '☆': 9734,\n",
       " '😊': 128522,\n",
       " '👆': 128070,\n",
       " '🏻': 127995,\n",
       " '\\u200b': 8203,\n",
       " '👊': 128074,\n",
       " '🏽': 127997,\n",
       " '💚': 128154,\n",
       " '🚂': 128642,\n",
       " '🎈': 127880,\n",
       " '🚀': 128640,\n",
       " '☁': 9729,\n",
       " '😃': 128515,\n",
       " '😴': 128564,\n",
       " '💤': 128164,\n",
       " '《': 12298,\n",
       " '●': 9679,\n",
       " '•': 8226,\n",
       " '😆': 128518,\n",
       " '😇': 128519,\n",
       " '👿': 128127,\n",
       " '😣': 128547,\n",
       " '😎': 128526,\n",
       " '⬅': 11013,\n",
       " '🌍': 127757,\n",
       " '🏼': 127996,\n",
       " '😰': 128560,\n",
       " '💥': 128165,\n",
       " '☑': 9745,\n",
       " '🌏': 127759,\n",
       " '😒': 128530,\n",
       " '🔅': 128261,\n",
       " '🎾': 127934,\n",
       " '👉': 128073,\n",
       " '👈': 128072,\n",
       " 'ï': 239,\n",
       " '😓': 128531,\n",
       " '💘': 128152,\n",
       " '′': 8242,\n",
       " '😱': 128561,\n",
       " '📺': 128250,\n",
       " '👋': 128075,\n",
       " '🏢': 127970,\n",
       " '🏫': 127979,\n",
       " '✨': 10024,\n",
       " '👗': 128087,\n",
       " '👔': 128084,\n",
       " '👚': 128090,\n",
       " '👢': 128098,\n",
       " '😉': 128521,\n",
       " '☹': 9785,\n",
       " '💜': 128156,\n",
       " '😔': 128532,\n",
       " '💃': 128131,\n",
       " '😡': 128545,\n",
       " '🎬': 127916,\n",
       " '😅': 128517,\n",
       " '🎧': 127911,\n",
       " '😜': 128540,\n",
       " '💦': 128166,\n",
       " '🍑': 127825,\n",
       " '😩': 128553,\n",
       " '💨': 128168,\n",
       " '☉': 9737,\n",
       " '❌': 10060,\n",
       " '🚨': 128680,\n",
       " '✅': 9989,\n",
       " '⬇': 11015,\n",
       " '↔': 8596,\n",
       " '\\U0010fc00': 1113088,\n",
       " 'ñ': 241,\n",
       " '🤔': 129300,\n",
       " '🤖': 129302,\n",
       " '👎': 128078,\n",
       " 'í': 237,\n",
       " 'ĺ': 314,\n",
       " '🦃': 129411,\n",
       " '🏆': 127942,\n",
       " '🇨': 127464,\n",
       " '🇳': 127475,\n",
       " '📸': 128248,\n",
       " '🇰': 127472,\n",
       " '🇷': 127479,\n",
       " 'ト': 12488,\n",
       " 'ラ': 12521,\n",
       " 'ン': 12531,\n",
       " 'プ': 12503,\n",
       " '大': 22823,\n",
       " '統': 32113,\n",
       " '領': 38936,\n",
       " 'に': 12395,\n",
       " 'よ': 12424,\n",
       " 'る': 12427,\n",
       " '、': 12289,\n",
       " '初': 21021,\n",
       " 'の': 12398,\n",
       " '歴': 27508,\n",
       " '史': 21490,\n",
       " '的': 30340,\n",
       " 'な': 12394,\n",
       " '日': 26085,\n",
       " '本': 26412,\n",
       " '訪': 35370,\n",
       " '問': 21839,\n",
       " 'は': 12399,\n",
       " '間': 38291,\n",
       " '違': 36949,\n",
       " 'い': 12356,\n",
       " 'く': 12367,\n",
       " '米': 31859,\n",
       " '同': 21516,\n",
       " '盟': 30431,\n",
       " '揺': 25594,\n",
       " 'ぎ': 12366,\n",
       " '絆': 32070,\n",
       " 'を': 12434,\n",
       " '世': 19990,\n",
       " '界': 30028,\n",
       " '示': 31034,\n",
       " 'す': 12377,\n",
       " 'こ': 12371,\n",
       " 'と': 12392,\n",
       " 'が': 12364,\n",
       " 'で': 12391,\n",
       " 'き': 12365,\n",
       " 'ま': 12414,\n",
       " 'し': 12375,\n",
       " 'た': 12383,\n",
       " '。': 12290,\n",
       " '当': 24403,\n",
       " 'あ': 12354,\n",
       " 'り': 12426,\n",
       " 'う': 12358,\n",
       " 'ド': 12489,\n",
       " 'ナ': 12490,\n",
       " 'ル': 12523,\n",
       " 'そ': 12381,\n",
       " 'て': 12390,\n",
       " 'ア': 12450,\n",
       " 'ジ': 12472,\n",
       " '成': 25104,\n",
       " '功': 21151,\n",
       " 'お': 12362,\n",
       " '祈': 31048,\n",
       " '🇯': 127471,\n",
       " '🇵': 127477,\n",
       " 'ご': 12372,\n",
       " 'ざ': 12374,\n",
       " '⚾': 9918,\n",
       " '📈': 128200,\n",
       " '📉': 128201,\n",
       " '🎥': 127909,\n",
       " '🇻': 127483,\n",
       " '🇮': 127470,\n",
       " '⚡': 9889,\n",
       " '🇲': 127474,\n",
       " '🇪': 127466,\n",
       " '🌺': 127802,\n",
       " '🇴': 127476,\n",
       " 'ó': 243,\n",
       " '🇫': 127467,\n",
       " 'ō': 333,\n",
       " '🇱': 127473,\n",
       " '🇦': 127462,\n",
       " 'ễ': 7877,\n",
       " 'â': 226,\n",
       " 'ú': 250,\n",
       " 'ח': 1495,\n",
       " 'ז': 1494,\n",
       " 'ק': 1511,\n",
       " 'י': 1497,\n",
       " 'ם': 1501,\n",
       " 'ת': 1514,\n",
       " 'מ': 1502,\n",
       " 'ד': 1491,\n",
       " 'ğ': 287,\n",
       " 'ø': 248,\n",
       " 'á': 225,\n",
       " '☀': 9728,\n",
       " 'ゼ': 12476,\n",
       " 'チ': 12481,\n",
       " 'Ｇ': 65319,\n",
       " '２': 65298,\n",
       " '０': 65296,\n",
       " 'サ': 12469,\n",
       " 'ミ': 12511,\n",
       " 'ッ': 12483,\n",
       " '開': 38283,\n",
       " '幕': 24149,\n",
       " '機': 27231,\n",
       " '会': 20250,\n",
       " '活': 27963,\n",
       " 'か': 12363,\n",
       " 'モ': 12514,\n",
       " 'デ': 12487,\n",
       " 'ィ': 12451,\n",
       " '首': 39318,\n",
       " '相': 30456,\n",
       " 'め': 12417,\n",
       " '印': 21360,\n",
       " '三': 19977,\n",
       " '国': 22269,\n",
       " '脳': 33075,\n",
       " '談': 35527,\n",
       " '行': 34892,\n",
       " '「': 12300,\n",
       " '自': 33258,\n",
       " '由': 30001,\n",
       " 'れ': 12428,\n",
       " 'イ': 12452,\n",
       " '太': 22826,\n",
       " '平': 24179,\n",
       " '洋': 27915,\n",
       " '」': 12301,\n",
       " '共': 20849,\n",
       " '通': 36890,\n",
       " '目': 30446,\n",
       " '標': 27161,\n",
       " '向': 21521,\n",
       " 'っ': 12387,\n",
       " '緊': 32202,\n",
       " '密': 23494,\n",
       " '連': 36899,\n",
       " '携': 25658,\n",
       " '一': 19968,\n",
       " '致': 33268,\n",
       " '🇽': 127485,\n",
       " '🎄': 127876,\n",
       " '👇': 128071,\n",
       " '📱': 128241,\n",
       " '🔹': 128313,\n",
       " '🇬': 127468,\n",
       " '🏛': 127963,\n",
       " '🔟': 128287,\n",
       " '⚠': 9888,\n",
       " '🇼': 127484,\n",
       " '🇭': 127469,\n",
       " '🇧': 127463,\n",
       " '🚁': 128641,\n",
       " '🚤': 128676,\n",
       " '🐶': 128054,\n",
       " '¯': 175,\n",
       " 'ツ': 12484,\n",
       " '🇹': 127481,\n",
       " '➜': 10140,\n",
       " 'フ': 12501,\n",
       " 'ロ': 12525,\n",
       " 'リ': 12522,\n",
       " 'ダ': 12480,\n",
       " '到': 21040,\n",
       " '着': 30528,\n",
       " '早': 26089,\n",
       " '速': 36895,\n",
       " '臨': 33256,\n",
       " 'み': 12415,\n",
       " '今': 20170,\n",
       " '半': 21322,\n",
       " '北': 21271,\n",
       " '朝': 26397,\n",
       " '鮮': 39854,\n",
       " '題': 38988,\n",
       " '費': 36027,\n",
       " 'や': 12420,\n",
       " '非': 38750,\n",
       " '常': 24120,\n",
       " '重': 37325,\n",
       " '要': 35201,\n",
       " '点': 28857,\n",
       " '認': 35469,\n",
       " '識': 35672,\n",
       " 'さ': 12373,\n",
       " 'せ': 12379,\n",
       " '最': 26368,\n",
       " '善': 21892,\n",
       " 'ベ': 12505,\n",
       " 'ス': 12473,\n",
       " '尽': 23613,\n",
       " '来': 26469,\n",
       " '拉': 25289,\n",
       " '取': 21462,\n",
       " '上': 19978,\n",
       " 'げ': 12370,\n",
       " '☘': 9752}"
      ]
     },
     "execution_count": 26,
     "metadata": {},
     "output_type": "execute_result"
    }
   ],
   "source": [
    "strange_ascii = dict()\n",
    "for tweet in tweets:\n",
    "    for character in tweet:\n",
    "        if ord(character)<32 or ord(character)>126:\n",
    "            strange_ascii[character] = ord(character)\n",
    "strange_ascii"
   ]
  },
  {
   "cell_type": "markdown",
   "metadata": {},
   "source": [
    "Let's preprocess the tweets with the following steps:\n",
    "- Replace tabs '\\t' and linebreaks '\\n' by spaces\n",
    "- Filter out strange ASCII characters\n",
    "- Decode html sequences\n",
    "- Add start and stop characters as '\\t' and '\\n' respectively"
   ]
  },
  {
   "cell_type": "code",
   "execution_count": 27,
   "metadata": {},
   "outputs": [],
   "source": [
    "def preprocess_tweet(tweet):\n",
    "    tweet = tweet.replace('\\t', ' ').replace('\\n', ' ')\n",
    "    tweet = ''.join(filter(lambda char: ord(char)>=32 and ord(char)<=126, tweet))\n",
    "    tweet = html.unescape(tweet)\n",
    "    tweet = '\\t'+tweet+'\\n'\n",
    "\n",
    "    return tweet\n",
    "\n",
    "tweets = [preprocess_tweet(tweet) for tweet in tweets]"
   ]
  },
  {
   "cell_type": "markdown",
   "metadata": {},
   "source": [
    "Define a set containing the unique characters in the tweets. Its length K corresponds to the dimensionality of the output (and input) vector of our RNN."
   ]
  },
  {
   "cell_type": "code",
   "execution_count": 28,
   "metadata": {},
   "outputs": [],
   "source": [
    "tweets_chars = set(''.join(tweets))\n",
    "K_Trump = len(tweets_chars)"
   ]
  },
  {
   "cell_type": "markdown",
   "metadata": {},
   "source": [
    "Initialize map containers (Python dictionaries) and fill in the characters with the respective index in our alphabet."
   ]
  },
  {
   "cell_type": "code",
   "execution_count": 29,
   "metadata": {
    "scrolled": true
   },
   "outputs": [],
   "source": [
    "char_to_ind_Trump = dict()\n",
    "ind_to_char_Trump = dict()\n",
    "for i, a in enumerate(tweets_chars):\n",
    "    char_to_ind_Trump[a] = i\n",
    "    ind_to_char_Trump[i] = a"
   ]
  },
  {
   "cell_type": "code",
   "execution_count": 30,
   "metadata": {
    "scrolled": true
   },
   "outputs": [
    {
     "data": {
      "text/plain": [
       "{' ': 0,\n",
       " 'u': 1,\n",
       " '~': 2,\n",
       " '2': 3,\n",
       " '{': 4,\n",
       " '`': 5,\n",
       " 'C': 6,\n",
       " 'p': 7,\n",
       " '8': 8,\n",
       " 'L': 9,\n",
       " '\\n': 10,\n",
       " '7': 11,\n",
       " 'd': 12,\n",
       " '9': 13,\n",
       " 'W': 14,\n",
       " '%': 15,\n",
       " '|': 16,\n",
       " 's': 17,\n",
       " 'V': 18,\n",
       " '+': 19,\n",
       " '.': 20,\n",
       " 'Q': 21,\n",
       " 'w': 22,\n",
       " 'Z': 23,\n",
       " 'n': 24,\n",
       " 'o': 25,\n",
       " '!': 26,\n",
       " '5': 27,\n",
       " 'k': 28,\n",
       " 'R': 29,\n",
       " 'S': 30,\n",
       " ';': 31,\n",
       " '\\t': 32,\n",
       " ',': 33,\n",
       " 't': 34,\n",
       " '@': 35,\n",
       " ']': 36,\n",
       " 'T': 37,\n",
       " 'F': 38,\n",
       " \"'\": 39,\n",
       " '}': 40,\n",
       " '\\\\': 41,\n",
       " 'v': 42,\n",
       " 'M': 43,\n",
       " '1': 44,\n",
       " 'A': 45,\n",
       " 'E': 46,\n",
       " '>': 47,\n",
       " 'H': 48,\n",
       " '4': 49,\n",
       " 'q': 50,\n",
       " ')': 51,\n",
       " '_': 52,\n",
       " '6': 53,\n",
       " 'm': 54,\n",
       " '-': 55,\n",
       " 'D': 56,\n",
       " 'b': 57,\n",
       " 'g': 58,\n",
       " '#': 59,\n",
       " '[': 60,\n",
       " 'j': 61,\n",
       " 'N': 62,\n",
       " 'e': 63,\n",
       " '(': 64,\n",
       " '<': 65,\n",
       " '$': 66,\n",
       " 'Y': 67,\n",
       " 'U': 68,\n",
       " 'I': 69,\n",
       " 'i': 70,\n",
       " 'J': 71,\n",
       " '?': 72,\n",
       " 'f': 73,\n",
       " 'c': 74,\n",
       " '&': 75,\n",
       " 'h': 76,\n",
       " 'G': 77,\n",
       " '/': 78,\n",
       " 'K': 79,\n",
       " '0': 80,\n",
       " 'x': 81,\n",
       " 'P': 82,\n",
       " '=': 83,\n",
       " 'O': 84,\n",
       " 'B': 85,\n",
       " '*': 86,\n",
       " 'y': 87,\n",
       " 'l': 88,\n",
       " 'X': 89,\n",
       " '3': 90,\n",
       " 'r': 91,\n",
       " ':': 92,\n",
       " 'z': 93,\n",
       " '\"': 94,\n",
       " 'a': 95}"
      ]
     },
     "execution_count": 30,
     "metadata": {},
     "output_type": "execute_result"
    }
   ],
   "source": [
    "char_to_ind_Trump"
   ]
  },
  {
   "cell_type": "markdown",
   "metadata": {},
   "source": [
    "Create the one hot encoded vectors for the start and stop characters."
   ]
  },
  {
   "cell_type": "code",
   "execution_count": 31,
   "metadata": {},
   "outputs": [],
   "source": [
    "start_one_hot = one_hot(character_index=char_to_ind_Trump['\\t'], number_distinct_characters=K_Trump)\n",
    "end_one_hot = one_hot(character_index=char_to_ind_Trump['\\n'], number_distinct_characters=K_Trump)"
   ]
  },
  {
   "cell_type": "markdown",
   "metadata": {},
   "source": [
    "Initialize the created class RNN with $m=100$ hidden layer size and $K=92$ input layer size (number of characters in our tweets alphabet)."
   ]
  },
  {
   "cell_type": "code",
   "execution_count": 32,
   "metadata": {},
   "outputs": [],
   "source": [
    "m_Trump = 100\n",
    "myRNN_Trump = RNN(input_size=K_Trump, hidden_size=m_Trump, output_size=K_Trump)"
   ]
  },
  {
   "cell_type": "markdown",
   "metadata": {},
   "source": [
    "Now, let's train our RNN with learning rate 0.1, 5 epochs (iteration of all tweets), sequence length 15, and suffling tweets order by epochs.\n",
    "\n",
    "*Note*: Now we set the function parameters *number_updates* equal to infinite and *max_epochs* equal to 1, since we want to iterate once all the text of each tweet by epoch."
   ]
  },
  {
   "cell_type": "code",
   "execution_count": 33,
   "metadata": {
    "scrolled": false
   },
   "outputs": [
    {
     "name": "stdout",
     "output_type": "stream",
     "text": [
      "Epoch 1 tweet 36307/36307 [==================================================]\n",
      "Synthesized tweets:\n",
      "\n",
      "\n",
      "The Mame. #Calise that Jountiy & dWars @cotFUMrRLEichace. It demidect Barssgity may, 1 cornol to betticanify  Sawg oul sinly of @MIDAG Toums\n",
      "\n",
      "@Obllab: he loonel a pleycatico D. Thanks in gederdary!  Thisk nathe. Tox Intting cauts stiloon treating @reassolls Standy queth fig alte. S\n",
      "\n",
      "A-ngonuy #DonaldTrump Amragn Ama im http://t.cv/$5pYBAUVML hodesccalaU\n",
      "\n",
      "\n",
      "Epoch 2 tweet 36307/36307 [==================================================]\n",
      "Synthesized tweets:\n",
      "\n",
      "\n",
      "@Barensenqooketam \n",
      "\n",
      "\n",
      "Cake wing, Donagars porte. You & af the engrity farw har hards mught an ard showen! Hight troeving be win tear an Helling in Amashs dree to \n",
      "\n",
      ".@jvarmarly long puing faine! He umatrendinally - Lo.n: do keppide is calld tracting- goea sumpice. Lead News govald #Blasintlyabladle  Thin\n",
      "\n",
      "Epoch 3 tweet 36307/36307 [==================================================]\n",
      "Synthesized tweets:\n",
      "\n",
      "\n",
      "\"@SecripaJlay, USA 754 & Good jent & should rething for digh is with listeredthapigald. Thats Crices: @realDonalDonaldonesteth Trupploir or \n",
      "\n",
      "Thank you Tromal bit of have IP that nood http://t.co/V& EWFEDGELLAISN Toogh the sof and innouirad.\" Itin on OGERE  WeRo 363 no ectick. Maki\n",
      "\n",
      "Codresling tot just for nic on #LlenjokilebBpbrs20Y: Ariat Trump Goller on alken @FiklDoldees call,-A doels dridorer\" @lobandambew priciarly\n",
      "\n",
      "Epoch 4 tweet 36307/36307 [==================================================]\n",
      "Synthesized tweets:\n",
      "\n",
      "\n",
      "\"@bitarnthe: @realDonaldTrump The they I ver: @realDonaldTrOma. Was in it is stat that the burines mored breal congrys air wiscar.  Wheo I.1\n",
      "\n",
      "Stare some ofrenticon the was the Partyher Pose clavere. The lount. for jubl, to it AHust offy.C. httpU: @vonien seare couvid ublepelefing D\n",
      "\n",
      "\"@jxa,026038 Diles and net's and shouth the odead whtte 213: Go do show prony same think but and on Cormigull Retticensenter & Crailles.\" Th\n",
      "\n",
      "Epoch 5 tweet 36307/36307 [==================================================]\n",
      "Synthesized tweets:\n",
      "\n",
      "\n",
      "RT @FBUSS hameal oul came by Doratk look prive is and in ary your a We hand thate cannitsor of With Ce UTWS1 seaming of #TREjShake_Got?\" Cin\n",
      "\n",
      "\"@awovNearX no mork Agraush tell, brotes and Bighaticigur non--Faud Waking will wumoras! http://t.co/mDk9Zd67Q4nERpqqfTochiacasicaGos drolic\n",
      "\n",
      "Witha, u to knogelis, country, jung. fusses ledions. T ponem your sole. htAp  1s it it ho and is and a teny has with windmint on the Apleben\n",
      "\n"
     ]
    }
   ],
   "source": [
    "epochs = 5\n",
    "for epoch in range(epochs):\n",
    "    np.random.seed(epoch)\n",
    "    tweets_shuffled = np.random.permutation(tweets)\n",
    "    for t, tweet in enumerate(tweets_shuffled):\n",
    "        \n",
    "        # Show what tweet is being computed\n",
    "        bar = '='*(50*(t+1)//len(tweets))\n",
    "        msg = '\\rEpoch '+str(epoch+1)+' tweet '+str(t+1)+'/'+str(len(tweets))+' [{:50s}]'\n",
    "        sys.stdout.write(msg.format(bar))\n",
    "        \n",
    "        # Re-train the network with the tweet of the iteration \n",
    "        myRNN_Trump.train(text=tweet,\n",
    "                          ind_to_char=ind_to_char_Trump,\n",
    "                          char_to_ind=char_to_ind_Trump,\n",
    "                          seq_length=15,\n",
    "                          eta=0.1,\n",
    "                          number_updates=np.inf,\n",
    "                          max_epochs=1,\n",
    "                          find_best_network=False,\n",
    "                          continue_previous_training=True,\n",
    "                          verbose=False,\n",
    "                          verbose_show_loss_frequency=None,\n",
    "                          verbose_show_sample_frequency=None,\n",
    "                          verbose_show_sample_length=None,\n",
    "                          verbose_show_sample_stop_character=None)\n",
    "        \n",
    "    print('\\nSynthesized tweets:\\n\\n')\n",
    "    for sample in range(3):\n",
    "        synthesize_one_hot = \\\n",
    "            myRNN_Trump.synthesize(x0=start_one_hot, h0=np.zeros(shape=(myRNN_Trump.hidden_size,1)),\n",
    "                                   length=140, stop_character_one_hot=end_one_hot)\n",
    "        synthesize_characters = []\n",
    "        for index in range(synthesize_one_hot.shape[1]):\n",
    "            character = ind_to_char_Trump[np.where(synthesize_one_hot[:,index]>0)[0][0]]\n",
    "            synthesize_characters.append(character)\n",
    "        print(''.join(synthesize_characters)+'\\n')"
   ]
  },
  {
   "cell_type": "markdown",
   "metadata": {},
   "source": [
    "This is the learning curve of the previous training."
   ]
  },
  {
   "cell_type": "code",
   "execution_count": 34,
   "metadata": {},
   "outputs": [
    {
     "data": {
      "image/png": "[encoded data removed]",
      "text/plain": [
       "<Figure size 1080x360 with 1 Axes>"
      ]
     },
     "metadata": {
      "needs_background": "light"
     },
     "output_type": "display_data"
    }
   ],
   "source": [
    "title = 'for 5 epochs (teration of all tweets), eta 0.1, sequence length 15'\n",
    "plot_learning_curve(myRNN_Trump.smooth_loss, title=title, length_text=None, seq_length=None)\n",
    "plt.savefig('Figures/'+str(figure)+'_Curve_Tweets.png', bbox_inches='tight'); figure+=1"
   ]
  }
 ],
 "metadata": {
  "kernelspec": {
   "display_name": "Python 3",
   "language": "python",
   "name": "python3"
  },
  "language_info": {
   "codemirror_mode": {
    "name": "ipython",
    "version": 3
   },
   "file_extension": ".py",
   "mimetype": "text/x-python",
   "name": "python",
   "nbconvert_exporter": "python",
   "pygments_lexer": "ipython3",
   "version": "3.6.8"
  }
 },
 "nbformat": 4,
 "nbformat_minor": 2
}
